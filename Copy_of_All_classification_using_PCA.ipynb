{
  "nbformat": 4,
  "nbformat_minor": 0,
  "metadata": {
    "colab": {
      "provenance": [],
      "collapsed_sections": []
    },
    "kernelspec": {
      "name": "python3",
      "display_name": "Python 3"
    },
    "language_info": {
      "name": "python"
    }
  },
  "cells": [
    {
      "cell_type": "code",
      "metadata": {
        "id": "NzhiReaUVbiz"
      },
      "source": [
        "from sklearn.preprocessing import LabelEncoder, OneHotEncoder\n",
        "from sklearn.multioutput import MultiOutputClassifier\n",
        "from sklearn import metrics\n",
        "import pandas as pd\n",
        "import numpy as np\n",
        "import matplotlib.pyplot as plt\n",
        "import seaborn as sns\n",
        "from pandas import DataFrame\n",
        "%matplotlib inline\n",
        "from sklearn.model_selection import train_test_split\n",
        "from sklearn.ensemble import RandomForestClassifier\n",
        "from sklearn.feature_selection import SelectFromModel\n",
        "from sklearn.metrics import accuracy_score\n",
        "from sklearn import datasets\n",
        "from sklearn.metrics import classification_report\n",
        "from sklearn.impute import SimpleImputer\n",
        "from sklearn.metrics import confusion_matrix\n",
        "import time\n",
        "from scipy import stats\n",
        "import datetime\n",
        "import statistics\n",
        "import decimal\n",
        "import matplotlib.pyplot as plt\n",
        "%matplotlib inline\n",
        "from IPython.display import display\n",
        " \n",
        "import  os\n",
        "import random\n",
        "import math \n",
        " \n",
        "from sklearn.model_selection import train_test_split\n",
        "import xgboost as xgb\n",
        " \n",
        "random.seed(1)\n",
        "np.random.seed(1)\n",
        "import warnings\n",
        "warnings.filterwarnings('ignore')"
      ],
      "execution_count": null,
      "outputs": []
    },
    {
      "cell_type": "code",
      "metadata": {
        "colab": {
          "base_uri": "https://localhost:8080/"
        },
        "id": "Rvu5HrJuVmQW",
        "outputId": "08262879-3859-4d6b-d330-c587ad1e2bb7"
      },
      "source": [
        "from google.colab import drive\n",
        "drive.mount('/content/drive', force_remount=True) \n",
        "df=pd.read_csv('/content/drive/My Drive/Sel50_IoT_Intrusion_Dataset_2020.csv');\n",
        "# df=pd.read_csv('/content/drive/My Drive/IoT Intrusion Dataset 2020.csv')"
      ],
      "execution_count": null,
      "outputs": [
        {
          "output_type": "stream",
          "text": [
            "Mounted at /content/drive\n"
          ],
          "name": "stdout"
        }
      ]
    },
    {
      "cell_type": "code",
      "metadata": {
        "id": "35LThs3bVqcN"
      },
      "source": [
        "import ipaddress\n",
        "df['Src_IP'] = df['Src_IP'].apply(lambda x: int(ipaddress.IPv4Address(x)))\n",
        "df['Dst_IP'] = df['Dst_IP'].apply(lambda x: int(ipaddress.IPv4Address(x)))\n",
        "df['Timestamp']=pd.to_datetime(df['Timestamp']).astype(int)/10**9\n",
        "# df['Flow_ID']=df['Src_IP']+df['Dst_IP']+df['Src_Port']+df['Dst_Port']+df['Protocol']\n",
        "le=LabelEncoder()\n",
        "# df.Label=le.fit_transform(df.Label)\n",
        "df.Flow_ID=LabelEncoder().fit_transform(df.Flow_ID).astype(int)\n",
        "df.Sub_Cat=le.fit_transform(df.Sub_Cat)\n",
        "df.Sub_Cat=df.Sub_Cat.astype('category')\n",
        "df.Label=le.fit_transform(df.Label).astype('int')\n",
        "df.Cat=le.fit_transform(df.Cat).astype('int')\n",
        "df=df.replace([np.inf, -np.inf], np.nan).dropna(axis=1)\n",
        "# df=df.apply(lambda row: row.fillna(row.mean()), axis=1)\n",
        "df = df.astype(int)"
      ],
      "execution_count": null,
      "outputs": []
    },
    {
      "cell_type": "code",
      "metadata": {
        "id": "TTibEwTUV9y-"
      },
      "source": [
        "x1=df.drop(['Sub_Cat','Cat','Label'],axis=1)\n",
        "y1=df['Label']"
      ],
      "execution_count": null,
      "outputs": []
    },
    {
      "cell_type": "code",
      "metadata": {
        "id": "EhromOKgWFhW"
      },
      "source": [
        "x2=df.drop(['Sub_Cat','Cat','Label'],axis=1)\n",
        "y2=df['Cat']"
      ],
      "execution_count": null,
      "outputs": []
    },
    {
      "cell_type": "code",
      "metadata": {
        "id": "VpEOUKxvWGk-"
      },
      "source": [
        "x3=df.drop(['Sub_Cat','Cat','Label'],axis=1)\n",
        "y3=df['Sub_Cat']"
      ],
      "execution_count": null,
      "outputs": []
    },
    {
      "cell_type": "code",
      "metadata": {
        "id": "JP_-kI9NWQWf"
      },
      "source": [
        "from pylab import rcParams\n",
        "rcParams['figure.figsize'] = 20, 20"
      ],
      "execution_count": null,
      "outputs": []
    },
    {
      "cell_type": "code",
      "metadata": {
        "colab": {
          "base_uri": "https://localhost:8080/",
          "height": 648
        },
        "id": "aIUgHKndWWuY",
        "outputId": "0094573d-e25b-412a-9605-4d370b24b33b"
      },
      "source": [
        "import matplotlib.pyplot as plt\n",
        "from sklearn.decomposition import PCA\n",
        "from sklearn.preprocessing import MinMaxScaler\n",
        "\n",
        "scaler1 = MinMaxScaler(feature_range=[0, 1])\n",
        "data_rescaled1= scaler1.fit_transform(x1)\n",
        "\n",
        "large = 22; med = 16; small = 12\n",
        "params = {'axes.titlesize': large,\n",
        "          'legend.fontsize': med,\n",
        "          'figure.figsize': (16, 10),\n",
        "          'axes.labelsize': med,\n",
        "          'axes.titlesize': med,\n",
        "          'xtick.labelsize': med,\n",
        "          'ytick.labelsize': med,\n",
        "          'figure.titlesize': large}\n",
        "plt.rcParams.update(params)\n",
        "plt.style.use('seaborn-darkgrid')\n",
        "%matplotlib inline\n",
        "\n",
        "pca1 = PCA().fit(data_rescaled1)\n",
        "plt.figure(figsize=(20,10))\n",
        "plt.plot(np.cumsum(pca1.explained_variance_ratio_))\n",
        "plt.xlabel('Number of Components',fontdict={'family': 'serif','weight': 'normal','size': 28})\n",
        "plt.ylabel('Variance (%)' , fontdict={'family': 'serif','weight': 'normal','size': 28}) #for each component\n",
        "plt.title('IOT Dataset No. of Components vs Variance' , fontdict={'family': 'serif','weight': 'normal','size': 34})\n",
        "plt.show()"
      ],
      "execution_count": null,
      "outputs": [
        {
          "output_type": "display_data",
          "data": {
            "image/png": "[encoded data removed]",
            "text/plain": [
              "<Figure size 1440x720 with 1 Axes>"
            ]
          },
          "metadata": {
            "needs_background": "light"
          }
        }
      ]
    },
    {
      "cell_type": "code",
      "metadata": {
        "colab": {
          "base_uri": "https://localhost:8080/",
          "height": 648
        },
        "id": "uhgO3o9JWfEB",
        "outputId": "a23f68fa-077e-48db-9766-5749d004eb01"
      },
      "source": [
        "scaler2 = MinMaxScaler(feature_range=[0, 1])\n",
        "data_rescaled2= scaler2.fit_transform(x2)\n",
        "\n",
        "large = 22; med = 16; small = 12\n",
        "params = {'axes.titlesize': large,\n",
        "          'legend.fontsize': med,\n",
        "          'figure.figsize': (16, 10),\n",
        "          'axes.labelsize': med,\n",
        "          'axes.titlesize': med,\n",
        "          'xtick.labelsize': med,\n",
        "          'ytick.labelsize': med,\n",
        "          'figure.titlesize': large}\n",
        "plt.rcParams.update(params)\n",
        "plt.style.use('seaborn-darkgrid')\n",
        "%matplotlib inline\n",
        "\n",
        "pca2 = PCA().fit(data_rescaled2)\n",
        "plt.figure(figsize=(20,10))\n",
        "plt.plot(np.cumsum(pca2.explained_variance_ratio_))\n",
        "plt.xlabel('Number of Components',fontdict={'family': 'serif','weight': 'normal','size': 28})\n",
        "plt.ylabel('Variance (%)' , fontdict={'family': 'serif','weight': 'normal','size': 28}) #for each component\n",
        "plt.title('IOT Dataset No. of Components vs Variance' , fontdict={'family': 'serif','weight': 'normal','size': 34})\n",
        "plt.show()"
      ],
      "execution_count": null,
      "outputs": [
        {
          "output_type": "display_data",
          "data": {
            "image/png": "[encoded data removed]",
            "text/plain": [
              "<Figure size 1440x720 with 1 Axes>"
            ]
          },
          "metadata": {
            "needs_background": "light"
          }
        }
      ]
    },
    {
      "cell_type": "code",
      "metadata": {
        "colab": {
          "base_uri": "https://localhost:8080/",
          "height": 648
        },
        "id": "QjGjk7NCW9L0",
        "outputId": "5196f200-3c1c-4da1-ab96-5ac7025b36d9"
      },
      "source": [
        "import matplotlib.pyplot as plt\n",
        "from sklearn.decomposition import PCA\n",
        "from sklearn.preprocessing import MinMaxScaler\n",
        "\n",
        "scaler3 = MinMaxScaler(feature_range=[0, 1])\n",
        "data_rescaled3= scaler3.fit_transform(x3)\n",
        "\n",
        "large = 22; med = 16; small = 12\n",
        "params = {'axes.titlesize': large,\n",
        "          'legend.fontsize': med,\n",
        "          'figure.figsize': (16, 10),\n",
        "          'axes.labelsize': med,\n",
        "          'axes.titlesize': med,\n",
        "          'xtick.labelsize': med,\n",
        "          'ytick.labelsize': med,\n",
        "          'figure.titlesize': large}\n",
        "plt.rcParams.update(params)\n",
        "plt.style.use('seaborn-darkgrid')\n",
        "%matplotlib inline\n",
        "\n",
        "pca3 = PCA().fit(data_rescaled3)\n",
        "plt.figure(figsize=(20,10))\n",
        "plt.plot(np.cumsum(pca3.explained_variance_ratio_))\n",
        "plt.xlabel('Number of Components',fontdict={'family': 'serif','weight': 'normal','size': 28})\n",
        "plt.ylabel('Variance (%)' , fontdict={'family': 'serif','weight': 'normal','size': 28}) #for each component\n",
        "plt.title('IOT Dataset No. of Components vs Variance' , fontdict={'family': 'serif','weight': 'normal','size': 34})\n",
        "plt.show()"
      ],
      "execution_count": null,
      "outputs": [
        {
          "output_type": "display_data",
          "data": {
            "image/png": "[encoded data removed]",
            "text/plain": [
              "<Figure size 1440x720 with 1 Axes>"
            ]
          },
          "metadata": {
            "needs_background": "light"
          }
        }
      ]
    },
    {
      "cell_type": "code",
      "metadata": {
        "id": "d9Y2HM85XXt8"
      },
      "source": [
        "feature1=np.cumsum(pca3.explained_variance_ratio_)"
      ],
      "execution_count": null,
      "outputs": []
    },
    {
      "cell_type": "code",
      "metadata": {
        "colab": {
          "base_uri": "https://localhost:8080/"
        },
        "id": "dS2Q8Gn_XaEk",
        "outputId": "42ee11e2-c4a0-4dfe-c17d-8df62187e196"
      },
      "source": [
        "len(feature1[feature1 <= 0.99])"
      ],
      "execution_count": null,
      "outputs": [
        {
          "output_type": "execute_result",
          "data": {
            "text/plain": [
              "13"
            ]
          },
          "metadata": {},
          "execution_count": 9
        }
      ]
    },
    {
      "cell_type": "code",
      "metadata": {
        "id": "BPnJqptPXfK9"
      },
      "source": [
        "pca3 = PCA(n_components=13)\n",
        "x3 = pca3.fit_transform(data_rescaled3)"
      ],
      "execution_count": null,
      "outputs": []
    },
    {
      "cell_type": "code",
      "metadata": {
        "id": "FdoDP0WsXw5-"
      },
      "source": [
        "feature2=np.cumsum(pca2.explained_variance_ratio_)"
      ],
      "execution_count": null,
      "outputs": []
    },
    {
      "cell_type": "code",
      "metadata": {
        "colab": {
          "base_uri": "https://localhost:8080/"
        },
        "id": "keu0L1yHX1_3",
        "outputId": "acae7950-89d1-4d17-e5e9-ab0bdf04f198"
      },
      "source": [
        "len(feature2[feature2 <= 0.99])"
      ],
      "execution_count": null,
      "outputs": [
        {
          "output_type": "execute_result",
          "data": {
            "text/plain": [
              "14"
            ]
          },
          "metadata": {},
          "execution_count": 15
        }
      ]
    },
    {
      "cell_type": "code",
      "metadata": {
        "id": "PW_s_FZkX6vQ"
      },
      "source": [
        "pca2 = PCA(n_components=14)\n",
        "x2 = pca1.fit_transform(data_rescaled2)"
      ],
      "execution_count": null,
      "outputs": []
    },
    {
      "cell_type": "code",
      "metadata": {
        "id": "jwIA8uohYAXf"
      },
      "source": [
        "feature3=np.cumsum(pca3.explained_variance_ratio_)"
      ],
      "execution_count": null,
      "outputs": []
    },
    {
      "cell_type": "code",
      "metadata": {
        "colab": {
          "base_uri": "https://localhost:8080/"
        },
        "id": "l9ezkAv9YEB_",
        "outputId": "1e6a4a54-01f1-46bb-fd79-6bdb0b7d34e1"
      },
      "source": [
        "len(feature3[feature3 <= 0.99])"
      ],
      "execution_count": null,
      "outputs": [
        {
          "output_type": "execute_result",
          "data": {
            "text/plain": [
              "14"
            ]
          },
          "metadata": {},
          "execution_count": 18
        }
      ]
    },
    {
      "cell_type": "code",
      "metadata": {
        "id": "sNG5cCtAYHn2"
      },
      "source": [
        "pca3 = PCA(n_components=14)\n",
        "x3 = pca1.fit_transform(data_rescaled3)"
      ],
      "execution_count": null,
      "outputs": []
    },
    {
      "cell_type": "code",
      "metadata": {
        "id": "VifcQhFKYRgg"
      },
      "source": [
        "from imblearn.combine import SMOTETomek\n",
        "smk=SMOTETomek(random_state=0)\n",
        "x_rest1,y_rest1=smk.fit_sample(x1,y1) "
      ],
      "execution_count": null,
      "outputs": []
    },
    {
      "cell_type": "code",
      "metadata": {
        "id": "Px8A2dPKYXNv"
      },
      "source": [
        "x_rest2,y_rest2=smk.fit_sample(x2,y2) "
      ],
      "execution_count": null,
      "outputs": []
    },
    {
      "cell_type": "code",
      "metadata": {
        "id": "kw8cpiUDYbQY"
      },
      "source": [
        "from imblearn.combine import SMOTETomek\n",
        "smk=SMOTETomek(random_state=0)\n",
        "x_rest3,y_rest3=smk.fit_sample(x3,y3)"
      ],
      "execution_count": null,
      "outputs": []
    },
    {
      "cell_type": "code",
      "metadata": {
        "colab": {
          "base_uri": "https://localhost:8080/"
        },
        "id": "6-O_yA6jYo15",
        "outputId": "2d6fa3b4-8e4d-441e-b16c-548daae80c1b"
      },
      "source": [
        "x_train1,x_test1,y_train1,y_test1 =train_test_split(x_rest1,y_rest1,test_size=0.2,random_state=42)\n",
        "x_train1.shape,x_test1.shape"
      ],
      "execution_count": null,
      "outputs": [
        {
          "output_type": "execute_result",
          "data": {
            "text/plain": [
              "((937131, 14), (234283, 14))"
            ]
          },
          "metadata": {},
          "execution_count": 23
        }
      ]
    },
    {
      "cell_type": "code",
      "metadata": {
        "colab": {
          "base_uri": "https://localhost:8080/"
        },
        "id": "bJwhCEbOYvGr",
        "outputId": "f6e9303d-9ec1-4f82-ae25-d8eb167cb9de"
      },
      "source": [
        "x_train2,x_test2,y_train2,y_test2 =train_test_split(x_rest2,y_rest2,test_size=0.2,random_state=42)\n",
        "x_train2.shape,x_test2.shape"
      ],
      "execution_count": null,
      "outputs": [
        {
          "output_type": "execute_result",
          "data": {
            "text/plain": [
              "((1662698, 14), (415675, 14))"
            ]
          },
          "metadata": {},
          "execution_count": 24
        }
      ]
    },
    {
      "cell_type": "code",
      "metadata": {
        "colab": {
          "base_uri": "https://localhost:8080/"
        },
        "id": "dBLD663_Y3Js",
        "outputId": "54eabfcd-a00a-4a8f-8a06-d4408924cce3"
      },
      "source": [
        "x_train3,x_test3,y_train3,y_test3 =train_test_split(x_rest3,y_rest3,test_size=0.2,random_state=42)\n",
        "x_train3.shape,x_test3.shape"
      ],
      "execution_count": null,
      "outputs": [
        {
          "output_type": "execute_result",
          "data": {
            "text/plain": [
              "((1294011, 13), (323503, 13))"
            ]
          },
          "metadata": {},
          "execution_count": 13
        }
      ]
    },
    {
      "cell_type": "markdown",
      "metadata": {
        "id": "liQAgy8PZXm9"
      },
      "source": [
        "Classification"
      ]
    },
    {
      "cell_type": "code",
      "metadata": {
        "colab": {
          "base_uri": "https://localhost:8080/"
        },
        "id": "HiZcpGlVY8gj",
        "outputId": "2e370f65-64df-4d39-d98a-7b996921af4e"
      },
      "source": [
        "from sklearn.tree import DecisionTreeClassifier\n",
        "clf_model1 = DecisionTreeClassifier(criterion=\"gini\", random_state=42,max_depth=10, min_samples_leaf=5)   \n",
        "clf_model1.fit(x_train1,y_train1)\n",
        "y_pred_clf_model1 =clf_model1.predict(x_test1)\n",
        "print(\"Accuracy:\",metrics.accuracy_score(y_test1, y_pred_clf_model1))\n",
        " \n",
        "# xgboost provides R2 score\n",
        "print (\"Training score:\",clf_model1.score(x_train1,y_train1),\"Test Score:\",clf_model1.score(x_test1,y_test1))"
      ],
      "execution_count": null,
      "outputs": [
        {
          "output_type": "stream",
          "text": [
            "Accuracy: 0.99733228616673\n",
            "Training score: 0.9975371639610684 Test Score: 0.99733228616673\n"
          ],
          "name": "stdout"
        }
      ]
    },
    {
      "cell_type": "code",
      "metadata": {
        "colab": {
          "base_uri": "https://localhost:8080/"
        },
        "id": "pAPaTZOFaFpF",
        "outputId": "dc5d32fb-c145-484d-8b68-ff1dfaa82375"
      },
      "source": [
        "clf_model2 = DecisionTreeClassifier(criterion=\"gini\", random_state=42,max_depth=10, min_samples_leaf=5)   \n",
        "clf_model2.fit(x_train2,y_train2)\n",
        "y_pred_clf_model2 =clf_model2.predict(x_test2)\n",
        "print(\"Accuracy:\",metrics.accuracy_score(y_test2, y_pred_clf_model2))\n",
        " \n",
        "# xgboost provides R2 score\n",
        "print (\"Training score:\",clf_model2.score(x_train2,y_train2),\"Test Score:\",clf_model2.score(x_test2,y_test2))"
      ],
      "execution_count": null,
      "outputs": [
        {
          "output_type": "stream",
          "text": [
            "Accuracy: 0.9820532868226379\n",
            "Training score: 0.9823497712753609 Test Score: 0.9820532868226379\n"
          ],
          "name": "stdout"
        }
      ]
    },
    {
      "cell_type": "code",
      "metadata": {
        "colab": {
          "base_uri": "https://localhost:8080/"
        },
        "id": "KwSVaa5Haaqk",
        "outputId": "a05978d0-c840-4f7e-b085-8cfcbe698fff"
      },
      "source": [
        "clf_model3 = DecisionTreeClassifier(criterion=\"gini\", random_state=42,max_depth=10, min_samples_leaf=5)   \n",
        "clf_model3.fit(x_train3,y_train3)\n",
        "y_pred_clf_model3 =clf_model3.predict(x_test3)\n",
        "print(\"Accuracy:\",metrics.accuracy_score(y_test3, y_pred_clf_model3))\n",
        " \n",
        "# xgboost provides R2 score\n",
        "print (\"Training score:\",clf_model3.score(x_train3,y_train3),\"Test Score:\",clf_model3.score(x_test3,y_test3))"
      ],
      "execution_count": null,
      "outputs": [
        {
          "output_type": "stream",
          "text": [
            "Accuracy: 0.7656907038446136\n",
            "Training score: 0.7683220437088372 Test Score: 0.7656907038446136\n"
          ],
          "name": "stdout"
        }
      ]
    },
    {
      "cell_type": "markdown",
      "metadata": {
        "id": "DwqEwR2ocHmd"
      },
      "source": [
        "ExtraTree"
      ]
    },
    {
      "cell_type": "code",
      "metadata": {
        "colab": {
          "base_uri": "https://localhost:8080/"
        },
        "id": "bbNFd23ucJNE",
        "outputId": "57931edb-4278-4be2-9a30-a69655ba83f2"
      },
      "source": [
        "from sklearn.ensemble import ExtraTreesClassifier\n",
        "clf1 = ExtraTreesClassifier(n_estimators=10, max_depth=10,min_samples_split=2,n_jobs=1,random_state=0)\n",
        "clf1.fit(x_train1,y_train1)\n",
        "y_pred_clf1 =clf1.predict(x_test1)\n",
        "print(\"Accuracy:\",metrics.accuracy_score(y_test1, y_pred_clf1))\n",
        " \n",
        "# xgboost provides R2 score\n",
        "print (\"Training score:\",clf1 .score(x_train1,y_train1),\"Test Score:\",clf1.score(x_test1,y_test1))"
      ],
      "execution_count": null,
      "outputs": [
        {
          "output_type": "stream",
          "text": [
            "Accuracy: 0.9850650708758211\n",
            "Training score: 0.9850181031253902 Test Score: 0.9850650708758211\n"
          ],
          "name": "stdout"
        }
      ]
    },
    {
      "cell_type": "code",
      "metadata": {
        "colab": {
          "base_uri": "https://localhost:8080/"
        },
        "id": "p4BNYutSdL6R",
        "outputId": "af2d0a94-2fd5-4cd7-b666-5a70873583c9"
      },
      "source": [
        "clf2 = ExtraTreesClassifier(n_estimators=10, max_depth=10,min_samples_split=2,n_jobs=1,random_state=0)\n",
        "clf2.fit(x_train2,y_train2)\n",
        "y_pred_clf2 =clf2.predict(x_test2)\n",
        "print(\"Accuracy:\",metrics.accuracy_score(y_test2, y_pred_clf2))\n",
        " \n",
        "# xgboost provides R2 score\n",
        "print (\"Training score:\",clf2.score(x_train2,y_train2),\"Test Score:\",clf2.score(x_test2,y_test2))"
      ],
      "execution_count": null,
      "outputs": [
        {
          "output_type": "stream",
          "text": [
            "Accuracy: 0.9561652733505743\n",
            "Training score: 0.9563372302125822 Test Score: 0.9561652733505743\n"
          ],
          "name": "stdout"
        }
      ]
    },
    {
      "cell_type": "code",
      "metadata": {
        "colab": {
          "base_uri": "https://localhost:8080/"
        },
        "id": "hcp7_PFfdwRo",
        "outputId": "58b65457-3aa5-43e0-e45a-6730c601f456"
      },
      "source": [
        "clf3 = ExtraTreesClassifier(n_estimators=10, max_depth=10,min_samples_split=2,n_jobs=1,random_state=0)\n",
        "clf3.fit(x_train3,y_train3)\n",
        "y_pred_clf3 =clf3.predict(x_test3)\n",
        "print(\"Accuracy:\",metrics.accuracy_score(y_test3, y_pred_clf3))\n",
        " \n",
        "# xgboost provides R2 score\n",
        "print (\"Training score:\",clf3.score(x_train3,y_train3),\"Test Score:\",clf3.score(x_test3,y_test3))"
      ],
      "execution_count": null,
      "outputs": [
        {
          "output_type": "stream",
          "text": [
            "Accuracy: 0.7273728474169002\n",
            "Training score: 0.7309466076373137 Test Score: 0.7273728474169002\n"
          ],
          "name": "stdout"
        }
      ]
    },
    {
      "cell_type": "markdown",
      "metadata": {
        "id": "8uqcZBFJeZhK"
      },
      "source": [
        "Random Forest"
      ]
    },
    {
      "cell_type": "code",
      "metadata": {
        "colab": {
          "base_uri": "https://localhost:8080/"
        },
        "id": "T2EUylEReJd9",
        "outputId": "25983603-9b62-4a34-9bdc-34d0022ae612"
      },
      "source": [
        "from sklearn.ensemble import RandomForestClassifier\n",
        "classifier1 = RandomForestClassifier(n_estimators = 10, criterion = 'entropy', random_state = 42,max_depth=10)\n",
        "classifier1.fit(x_train1, y_train1)\n",
        "y_pred_classifier1 =classifier1.predict(x_test1)\n",
        "print(\"Accuracy:\",metrics.accuracy_score(y_test1, y_pred_classifier1))\n",
        " \n",
        "# xgboost provides R2 score\n",
        "print (\"Training score:\",classifier1.score(x_train1,y_train1),\"Test Score:\",classifier1.score(x_test1,y_test1))"
      ],
      "execution_count": null,
      "outputs": [
        {
          "output_type": "stream",
          "text": [
            "Accuracy: 0.999227430073885\n",
            "Training score: 0.9994685908373536 Test Score: 0.999227430073885\n"
          ],
          "name": "stdout"
        }
      ]
    },
    {
      "cell_type": "code",
      "metadata": {
        "colab": {
          "base_uri": "https://localhost:8080/"
        },
        "id": "PRSu4CpafVa6",
        "outputId": "85db166e-2c0c-4808-d3dd-50c53a8fb24e"
      },
      "source": [
        "classifier2 = RandomForestClassifier(n_estimators = 10, criterion = 'entropy', random_state = 42,max_depth=10)\n",
        "classifier2.fit(x_train2, y_train2)\n",
        "y_pred_classifier2 =classifier2.predict(x_test2)\n",
        "print(\"Accuracy:\",metrics.accuracy_score(y_test2, y_pred_classifier2))\n",
        " \n",
        "# xgboost provides R2 score\n",
        "print (\"Training score:\",classifier2.score(x_train2,y_train2),\"Test Score:\",classifier2.score(x_test2,y_test2))"
      ],
      "execution_count": null,
      "outputs": [
        {
          "output_type": "stream",
          "text": [
            "Accuracy: 0.9951620857641186\n",
            "Training score: 0.9952492876036418 Test Score: 0.9951620857641186\n"
          ],
          "name": "stdout"
        }
      ]
    },
    {
      "cell_type": "code",
      "metadata": {
        "colab": {
          "base_uri": "https://localhost:8080/"
        },
        "id": "_BmQOnCbfqPq",
        "outputId": "7a770215-fb55-4b08-ec60-e73e972f9fc3"
      },
      "source": [
        "classifier3 = RandomForestClassifier(n_estimators = 1000, criterion = 'entropy', random_state = 42,max_depth=40)\n",
        "classifier3.fit(x_train3, y_train3)\n",
        "y_pred_classifier3 =classifier3.predict(x_test3)\n",
        "print(\"Accuracy:\",metrics.accuracy_score(y_test3, y_pred_classifier3))\n",
        " \n",
        "# xgboost provides R2 score\n",
        "print (\"Training score:\",classifier3.score(x_train3,y_train3),\"Test Score:\",classifier3.score(x_test3,y_test3))"
      ],
      "execution_count": null,
      "outputs": [
        {
          "output_type": "stream",
          "text": [
            "Accuracy: 0.8603660553379722\n",
            "Training score: 0.8995379482863747 Test Score: 0.8603660553379722\n"
          ],
          "name": "stdout"
        }
      ]
    }
  ]
}